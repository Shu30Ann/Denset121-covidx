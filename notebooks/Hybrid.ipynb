{
 "cells": [
  {
   "cell_type": "code",
   "execution_count": 1,
   "id": "b2ac5976",
   "metadata": {
    "_cell_guid": "b1076dfc-b9ad-4769-8c92-a6c4dae69d19",
    "_uuid": "8f2839f25d086af736a60e9eeb907d3b93b6e0e5",
    "execution": {
     "iopub.execute_input": "2025-08-25T03:12:53.885200Z",
     "iopub.status.busy": "2025-08-25T03:12:53.884939Z",
     "iopub.status.idle": "2025-08-25T03:12:56.876542Z",
     "shell.execute_reply": "2025-08-25T03:12:56.875542Z"
    },
    "papermill": {
     "duration": 2.997324,
     "end_time": "2025-08-25T03:12:56.877863",
     "exception": false,
     "start_time": "2025-08-25T03:12:53.880539",
     "status": "completed"
    },
    "tags": []
   },
   "outputs": [
    {
     "name": "stdout",
     "output_type": "stream",
     "text": [
      "✅ combined_dataset.csv created with shape: (38970, 3)\n",
      "label\n",
      "covid        15565\n",
      "normal       11775\n",
      "pneumonia    11630\n",
      "Name: count, dtype: int64\n",
      "source\n",
      "covid19_radiography    21165\n",
      "covid_qu_ex            11949\n",
      "chest_xray              5856\n",
      "Name: count, dtype: int64\n"
     ]
    }
   ],
   "source": [
    "import os\n",
    "import pandas as pd\n",
    "\n",
    "# -------------------------------\n",
    "# Paths - update these if needed\n",
    "# -------------------------------\n",
    "chest_xray_dir = \"/kaggle/input/chest-xray-pneumonia/chest_xray\"\n",
    "covid19_dir = \"/kaggle/input/covid19-radiography-database/COVID-19_Radiography_Dataset\"\n",
    "covid_qu_ex_dir = \"/kaggle/input/covid-qu-ex/COVID-QU-Ex\"\n",
    "\n",
    "data = []\n",
    "\n",
    "# -------------------------------\n",
    "# 1. Chest X-ray Pneumonia Dataset\n",
    "# -------------------------------\n",
    "for split in [\"train\", \"val\", \"test\"]:\n",
    "    for label in [\"PNEUMONIA\", \"NORMAL\"]:\n",
    "        folder = os.path.join(chest_xray_dir, split, label)\n",
    "        if not os.path.exists(folder):\n",
    "            continue\n",
    "        for img in os.listdir(folder):\n",
    "            data.append([os.path.join(folder, img), label.lower(), \"chest_xray\"])\n",
    "\n",
    "# -------------------------------\n",
    "# 2. COVID-19 Radiography Database\n",
    "# -------------------------------\n",
    "covid_mapping = {\n",
    "    \"COVID\": \"covid\",\n",
    "    \"Viral Pneumonia\": \"pneumonia\",   # merge viral pneumonia into pneumonia\n",
    "    \"Lung_Opacity\": \"pneumonia\",     # can treat as pneumonia\n",
    "    \"Normal\": \"normal\"\n",
    "}\n",
    "\n",
    "for folder in os.listdir(covid19_dir):\n",
    "    if folder not in covid_mapping:\n",
    "        continue\n",
    "    label = covid_mapping[folder]\n",
    "    folder_path = os.path.join(covid19_dir, folder, \"images\")\n",
    "    if not os.path.exists(folder_path):  # some versions store images directly\n",
    "        folder_path = os.path.join(covid19_dir, folder)\n",
    "    for img in os.listdir(folder_path):\n",
    "        data.append([os.path.join(folder_path, img), label, \"covid19_radiography\"])\n",
    "\n",
    "# -------------------------------\n",
    "# 3. COVID-QU-Ex Dataset (only COVID-19 extracted)\n",
    "# -------------------------------\n",
    "for split in [\"train\", \"val\", \"test\"]:\n",
    "    covid19_folder = os.path.join(covid_qu_ex_dir, split, \"COVID-19\")\n",
    "    if not os.path.exists(covid19_folder):\n",
    "        continue\n",
    "\n",
    "    images_path = os.path.join(covid19_folder, \"images\")\n",
    "    if os.path.exists(images_path):\n",
    "        for img in os.listdir(images_path):\n",
    "            data.append([os.path.join(images_path, img), \"covid\", \"covid_qu_ex\"])\n",
    "\n",
    "# -------------------------------\n",
    "# Save Combined Dataset to CSV\n",
    "# -------------------------------\n",
    "df = pd.DataFrame(data, columns=[\"filepath\", \"label\", \"source\"])\n",
    "df.to_csv(\"/kaggle/working/combined_dataset.csv\", index=False)\n",
    "\n",
    "print(\"✅ combined_dataset.csv created with shape:\", df.shape)\n",
    "print(df['label'].value_counts())\n",
    "print(df['source'].value_counts())"
   ]
  },
  {
   "cell_type": "code",
   "execution_count": 2,
   "id": "9bfed57e",
   "metadata": {
    "execution": {
     "iopub.execute_input": "2025-08-25T03:12:56.884470Z",
     "iopub.status.busy": "2025-08-25T03:12:56.884202Z",
     "iopub.status.idle": "2025-08-25T03:14:56.691991Z",
     "shell.execute_reply": "2025-08-25T03:14:56.691098Z"
    },
    "papermill": {
     "duration": 119.814302,
     "end_time": "2025-08-25T03:14:56.695208",
     "exception": false,
     "start_time": "2025-08-25T03:12:56.880906",
     "status": "completed"
    },
    "tags": []
   },
   "outputs": [
    {
     "name": "stderr",
     "output_type": "stream",
     "text": [
      "2025-08-25 03:12:58.257275: E external/local_xla/xla/stream_executor/cuda/cuda_fft.cc:477] Unable to register cuFFT factory: Attempting to register factory for plugin cuFFT when one has already been registered\n",
      "WARNING: All log messages before absl::InitializeLog() is called are written to STDERR\n",
      "E0000 00:00:1756091578.426293      19 cuda_dnn.cc:8310] Unable to register cuDNN factory: Attempting to register factory for plugin cuDNN when one has already been registered\n",
      "E0000 00:00:1756091578.480612      19 cuda_blas.cc:1418] Unable to register cuBLAS factory: Attempting to register factory for plugin cuBLAS when one has already been registered\n"
     ]
    },
    {
     "name": "stdout",
     "output_type": "stream",
     "text": [
      "Train size: 28058\n",
      "Val size: 3118\n",
      "Test size: 7794\n",
      "Found 28058 validated image filenames belonging to 3 classes.\n",
      "Found 3118 validated image filenames belonging to 3 classes.\n",
      "Found 7794 validated image filenames belonging to 3 classes.\n"
     ]
    }
   ],
   "source": [
    "import pandas as pd\n",
    "import numpy as np\n",
    "import tensorflow as tf\n",
    "from tensorflow.keras.preprocessing.image import ImageDataGenerator\n",
    "from tensorflow.keras.applications import DenseNet121\n",
    "from tensorflow.keras.layers import Dense, GlobalAveragePooling2D, Dropout\n",
    "from tensorflow.keras.models import Model\n",
    "from tensorflow.keras.optimizers import Adam\n",
    "from sklearn.model_selection import train_test_split\n",
    "from sklearn.metrics import classification_report, confusion_matrix\n",
    "import matplotlib.pyplot as plt\n",
    "\n",
    "# --------------------\n",
    "# 1. Load combined dataset\n",
    "# --------------------\n",
    "df = pd.read_csv(\"/kaggle/working/combined_dataset.csv\")\n",
    "df = df.rename(columns={\"filepath\": \"file_path\"})\n",
    "\n",
    "\n",
    "# Split train, val, test\n",
    "train_df, test_df = train_test_split(df, test_size=0.2, stratify=df['label'], random_state=42)\n",
    "train_df, val_df = train_test_split(train_df, test_size=0.1, stratify=train_df['label'], random_state=42)\n",
    "\n",
    "print(\"Train size:\", len(train_df))\n",
    "print(\"Val size:\", len(val_df))\n",
    "print(\"Test size:\", len(test_df))\n",
    "\n",
    "# --------------------\n",
    "# 2. Image generators (with basic augmentation)\n",
    "# --------------------\n",
    "train_datagen = ImageDataGenerator(\n",
    "    rescale=1./255,\n",
    "    rotation_range=15,\n",
    "    width_shift_range=0.1,\n",
    "    height_shift_range=0.1,\n",
    "    shear_range=0.1,\n",
    "    zoom_range=0.1,\n",
    "    horizontal_flip=True\n",
    ")\n",
    "\n",
    "val_test_datagen = ImageDataGenerator(rescale=1./255)\n",
    "\n",
    "train_gen = train_datagen.flow_from_dataframe(\n",
    "    train_df, x_col='file_path', y_col='label',\n",
    "    target_size=(224,224), class_mode='categorical',\n",
    "    batch_size=32, shuffle=True\n",
    ")\n",
    "\n",
    "val_gen = val_test_datagen.flow_from_dataframe(\n",
    "    val_df, x_col='file_path', y_col='label',\n",
    "    target_size=(224,224), class_mode='categorical',\n",
    "    batch_size=32, shuffle=False\n",
    ")\n",
    "\n",
    "test_gen = val_test_datagen.flow_from_dataframe(\n",
    "    test_df, x_col='file_path', y_col='label',\n",
    "    target_size=(224,224), class_mode='categorical',\n",
    "    batch_size=32, shuffle=False\n",
    ")"
   ]
  },
  {
   "cell_type": "code",
   "execution_count": 3,
   "id": "0e27124a",
   "metadata": {
    "execution": {
     "iopub.execute_input": "2025-08-25T03:14:56.701519Z",
     "iopub.status.busy": "2025-08-25T03:14:56.701259Z",
     "iopub.status.idle": "2025-08-25T03:14:57.301982Z",
     "shell.execute_reply": "2025-08-25T03:14:57.301124Z"
    },
    "papermill": {
     "duration": 0.605178,
     "end_time": "2025-08-25T03:14:57.303126",
     "exception": false,
     "start_time": "2025-08-25T03:14:56.697948",
     "status": "completed"
    },
    "tags": []
   },
   "outputs": [
    {
     "name": "stdout",
     "output_type": "stream",
     "text": [
      "TensorFlow version: 2.18.0\n",
      "Num GPUs Available: 1\n",
      "GPU Devices: [PhysicalDevice(name='/physical_device:GPU:0', device_type='GPU')]\n"
     ]
    }
   ],
   "source": [
    "print(\"TensorFlow version:\", tf.__version__)\n",
    "print(\"Num GPUs Available:\", len(tf.config.list_physical_devices('GPU')))\n",
    "print(\"GPU Devices:\", tf.config.list_physical_devices('GPU'))"
   ]
  },
  {
   "cell_type": "code",
   "execution_count": 4,
   "id": "d72ce152",
   "metadata": {
    "execution": {
     "iopub.execute_input": "2025-08-25T03:14:57.309668Z",
     "iopub.status.busy": "2025-08-25T03:14:57.309424Z",
     "iopub.status.idle": "2025-08-25T03:15:01.613183Z",
     "shell.execute_reply": "2025-08-25T03:15:01.612387Z"
    },
    "papermill": {
     "duration": 4.308514,
     "end_time": "2025-08-25T03:15:01.614624",
     "exception": false,
     "start_time": "2025-08-25T03:14:57.306110",
     "status": "completed"
    },
    "tags": []
   },
   "outputs": [
    {
     "name": "stderr",
     "output_type": "stream",
     "text": [
      "I0000 00:00:1756091697.441645      19 gpu_device.cc:2022] Created device /job:localhost/replica:0/task:0/device:GPU:0 with 15513 MB memory:  -> device: 0, name: Tesla P100-PCIE-16GB, pci bus id: 0000:00:04.0, compute capability: 6.0\n"
     ]
    }
   ],
   "source": [
    "from tensorflow.keras.regularizers import l2\n",
    "from tensorflow.keras.callbacks import EarlyStopping, ReduceLROnPlateau\n",
    "from tensorflow.keras.layers import Dense, Dropout, GlobalAveragePooling2D, BatchNormalization\n",
    "\n",
    "\n",
    "# --------------------\n",
    "# 3. Build DenseNet121 model\n",
    "# --------------------\n",
    "base_model = DenseNet121(\n",
    "    weights='/kaggle/input/densenet/densenet121_weights_tf_dim_ordering_tf_kernels_notop.h5',  # must be a direct .h5 weight file\n",
    "    include_top=False,\n",
    "    input_shape=(224, 224, 3)\n",
    ")\n",
    "\n",
    "# Add custom top layers\n",
    "x = base_model.output\n",
    "x = GlobalAveragePooling2D()(x)\n",
    "x = BatchNormalization()(x)  # Add batch normalization\n",
    "x = Dropout(0.5)(x)\n",
    "x = Dense(256, activation='relu', kernel_regularizer=l2(0.001))(x)  # Increased neurons\n",
    "x = BatchNormalization()(x)\n",
    "x = Dropout(0.4)(x)\n",
    "x = Dense(128, activation='relu', kernel_regularizer=l2(0.001))(x)\n",
    "x = BatchNormalization()(x)\n",
    "x = Dropout(0.3)(x)\n",
    "output = Dense(3, activation='softmax', kernel_regularizer=l2(0.001))(x)\n",
    "\n",
    "model = Model(inputs=base_model.input, outputs=output)\n",
    "\n",
    "for layer in base_model.layers:\n",
    "    layer.trainable = False  # Freeze base DenseNet121 first\n",
    "\n",
    "model.compile(\n",
    "    optimizer=Adam(learning_rate=1e-4),\n",
    "    loss='categorical_crossentropy',\n",
    "    metrics=['accuracy', 'precision', 'recall']\n",
    ")"
   ]
  },
  {
   "cell_type": "code",
   "execution_count": 5,
   "id": "e87deb8a",
   "metadata": {
    "execution": {
     "iopub.execute_input": "2025-08-25T03:15:01.621113Z",
     "iopub.status.busy": "2025-08-25T03:15:01.620887Z",
     "iopub.status.idle": "2025-08-25T03:15:01.642991Z",
     "shell.execute_reply": "2025-08-25T03:15:01.642047Z"
    },
    "papermill": {
     "duration": 0.026695,
     "end_time": "2025-08-25T03:15:01.644312",
     "exception": false,
     "start_time": "2025-08-25T03:15:01.617617",
     "status": "completed"
    },
    "tags": []
   },
   "outputs": [
    {
     "name": "stdout",
     "output_type": "stream",
     "text": [
      "Class weights: {0: 0.8345379375985247, 1: 1.1031689863961627, 2: 1.117003065408655}\n"
     ]
    }
   ],
   "source": [
    "from sklearn.utils.class_weight import compute_class_weight\n",
    "\n",
    "classes = np.unique(train_df['label'])\n",
    "weights = compute_class_weight(class_weight='balanced', classes=classes, y=train_df['label'])\n",
    "class_weights = dict(zip(range(len(classes)), weights))\n",
    "\n",
    "print(\"Class weights:\", class_weights)"
   ]
  },
  {
   "cell_type": "code",
   "execution_count": 6,
   "id": "0d5c2fb3",
   "metadata": {
    "execution": {
     "iopub.execute_input": "2025-08-25T03:15:01.650624Z",
     "iopub.status.busy": "2025-08-25T03:15:01.650339Z",
     "iopub.status.idle": "2025-08-25T04:47:52.885620Z",
     "shell.execute_reply": "2025-08-25T04:47:52.884694Z"
    },
    "papermill": {
     "duration": 5571.239937,
     "end_time": "2025-08-25T04:47:52.887055",
     "exception": false,
     "start_time": "2025-08-25T03:15:01.647118",
     "status": "completed"
    },
    "tags": []
   },
   "outputs": [
    {
     "name": "stdout",
     "output_type": "stream",
     "text": [
      "Phase 1: Training top layers only...\n"
     ]
    },
    {
     "name": "stderr",
     "output_type": "stream",
     "text": [
      "/usr/local/lib/python3.11/dist-packages/keras/src/trainers/data_adapters/py_dataset_adapter.py:121: UserWarning: Your `PyDataset` class should call `super().__init__(**kwargs)` in its constructor. `**kwargs` can include `workers`, `use_multiprocessing`, `max_queue_size`. Do not pass these arguments to `fit()`, as they will be ignored.\n",
      "  self._warn_if_super_not_called()\n"
     ]
    },
    {
     "name": "stdout",
     "output_type": "stream",
     "text": [
      "Epoch 1/15\n"
     ]
    },
    {
     "name": "stderr",
     "output_type": "stream",
     "text": [
      "WARNING: All log messages before absl::InitializeLog() is called are written to STDERR\n",
      "I0000 00:00:1756091724.483403      58 service.cc:148] XLA service 0x798868001b90 initialized for platform CUDA (this does not guarantee that XLA will be used). Devices:\n",
      "I0000 00:00:1756091724.484399      58 service.cc:156]   StreamExecutor device (0): Tesla P100-PCIE-16GB, Compute Capability 6.0\n",
      "I0000 00:00:1756091727.441756      58 cuda_dnn.cc:529] Loaded cuDNN version 90300\n"
     ]
    },
    {
     "name": "stdout",
     "output_type": "stream",
     "text": [
      "\u001b[1m  2/877\u001b[0m \u001b[37m━━━━━━━━━━━━━━━━━━━━\u001b[0m \u001b[1m48s\u001b[0m 56ms/step - accuracy: 0.3828 - loss: 2.3279 - precision: 0.3852 - recall: 0.3672   "
     ]
    },
    {
     "name": "stderr",
     "output_type": "stream",
     "text": [
      "I0000 00:00:1756091739.850874      58 device_compiler.h:188] Compiled cluster using XLA!  This line is logged at most once for the lifetime of the process.\n"
     ]
    },
    {
     "name": "stdout",
     "output_type": "stream",
     "text": [
      "\u001b[1m877/877\u001b[0m \u001b[32m━━━━━━━━━━━━━━━━━━━━\u001b[0m\u001b[37m\u001b[0m \u001b[1m572s\u001b[0m 611ms/step - accuracy: 0.5563 - loss: 1.6788 - precision: 0.5713 - recall: 0.5191 - val_accuracy: 0.7688 - val_loss: 1.0491 - val_precision: 0.7876 - val_recall: 0.7457 - learning_rate: 1.0000e-04\n",
      "Epoch 2/15\n",
      "\u001b[1m877/877\u001b[0m \u001b[32m━━━━━━━━━━━━━━━━━━━━\u001b[0m\u001b[37m\u001b[0m \u001b[1m357s\u001b[0m 407ms/step - accuracy: 0.7143 - loss: 1.1846 - precision: 0.7311 - recall: 0.6888 - val_accuracy: 0.7915 - val_loss: 0.9394 - val_precision: 0.8124 - val_recall: 0.7720 - learning_rate: 1.0000e-04\n",
      "Epoch 3/15\n",
      "\u001b[1m877/877\u001b[0m \u001b[32m━━━━━━━━━━━━━━━━━━━━\u001b[0m\u001b[37m\u001b[0m \u001b[1m360s\u001b[0m 410ms/step - accuracy: 0.7370 - loss: 1.0783 - precision: 0.7566 - recall: 0.7128 - val_accuracy: 0.8040 - val_loss: 0.8863 - val_precision: 0.8256 - val_recall: 0.7806 - learning_rate: 1.0000e-04\n",
      "Epoch 4/15\n",
      "\u001b[1m877/877\u001b[0m \u001b[32m━━━━━━━━━━━━━━━━━━━━\u001b[0m\u001b[37m\u001b[0m \u001b[1m356s\u001b[0m 406ms/step - accuracy: 0.7551 - loss: 1.0045 - precision: 0.7749 - recall: 0.7292 - val_accuracy: 0.8165 - val_loss: 0.8391 - val_precision: 0.8351 - val_recall: 0.7960 - learning_rate: 1.0000e-04\n",
      "Epoch 5/15\n",
      "\u001b[1m877/877\u001b[0m \u001b[32m━━━━━━━━━━━━━━━━━━━━\u001b[0m\u001b[37m\u001b[0m \u001b[1m355s\u001b[0m 405ms/step - accuracy: 0.7709 - loss: 0.9474 - precision: 0.7896 - recall: 0.7465 - val_accuracy: 0.8249 - val_loss: 0.8042 - val_precision: 0.8422 - val_recall: 0.7996 - learning_rate: 1.0000e-04\n",
      "Epoch 6/15\n",
      "\u001b[1m877/877\u001b[0m \u001b[32m━━━━━━━━━━━━━━━━━━━━\u001b[0m\u001b[37m\u001b[0m \u001b[1m356s\u001b[0m 406ms/step - accuracy: 0.7788 - loss: 0.9142 - precision: 0.7968 - recall: 0.7488 - val_accuracy: 0.8284 - val_loss: 0.7751 - val_precision: 0.8462 - val_recall: 0.8008 - learning_rate: 1.0000e-04\n",
      "Epoch 7/15\n",
      "\u001b[1m877/877\u001b[0m \u001b[32m━━━━━━━━━━━━━━━━━━━━\u001b[0m\u001b[37m\u001b[0m \u001b[1m363s\u001b[0m 413ms/step - accuracy: 0.7908 - loss: 0.8788 - precision: 0.8120 - recall: 0.7621 - val_accuracy: 0.8275 - val_loss: 0.7526 - val_precision: 0.8460 - val_recall: 0.8053 - learning_rate: 1.0000e-04\n",
      "Epoch 8/15\n",
      "\u001b[1m877/877\u001b[0m \u001b[32m━━━━━━━━━━━━━━━━━━━━\u001b[0m\u001b[37m\u001b[0m \u001b[1m357s\u001b[0m 407ms/step - accuracy: 0.7968 - loss: 0.8392 - precision: 0.8159 - recall: 0.7731 - val_accuracy: 0.8352 - val_loss: 0.7243 - val_precision: 0.8516 - val_recall: 0.8156 - learning_rate: 1.0000e-04\n",
      "Epoch 9/15\n",
      "\u001b[1m877/877\u001b[0m \u001b[32m━━━━━━━━━━━━━━━━━━━━\u001b[0m\u001b[37m\u001b[0m \u001b[1m356s\u001b[0m 406ms/step - accuracy: 0.7951 - loss: 0.8266 - precision: 0.8131 - recall: 0.7680 - val_accuracy: 0.8409 - val_loss: 0.7002 - val_precision: 0.8587 - val_recall: 0.8185 - learning_rate: 1.0000e-04\n",
      "Epoch 10/15\n",
      "\u001b[1m877/877\u001b[0m \u001b[32m━━━━━━━━━━━━━━━━━━━━\u001b[0m\u001b[37m\u001b[0m \u001b[1m355s\u001b[0m 404ms/step - accuracy: 0.8039 - loss: 0.7904 - precision: 0.8238 - recall: 0.7785 - val_accuracy: 0.8483 - val_loss: 0.6665 - val_precision: 0.8655 - val_recall: 0.8316 - learning_rate: 1.0000e-04\n",
      "Epoch 11/15\n",
      "\u001b[1m877/877\u001b[0m \u001b[32m━━━━━━━━━━━━━━━━━━━━\u001b[0m\u001b[37m\u001b[0m \u001b[1m353s\u001b[0m 403ms/step - accuracy: 0.8118 - loss: 0.7555 - precision: 0.8274 - recall: 0.7877 - val_accuracy: 0.8518 - val_loss: 0.6486 - val_precision: 0.8644 - val_recall: 0.8303 - learning_rate: 1.0000e-04\n",
      "Epoch 12/15\n",
      "\u001b[1m877/877\u001b[0m \u001b[32m━━━━━━━━━━━━━━━━━━━━\u001b[0m\u001b[37m\u001b[0m \u001b[1m357s\u001b[0m 407ms/step - accuracy: 0.8094 - loss: 0.7460 - precision: 0.8273 - recall: 0.7869 - val_accuracy: 0.8560 - val_loss: 0.6257 - val_precision: 0.8699 - val_recall: 0.8364 - learning_rate: 1.0000e-04\n",
      "Epoch 13/15\n",
      "\u001b[1m877/877\u001b[0m \u001b[32m━━━━━━━━━━━━━━━━━━━━\u001b[0m\u001b[37m\u001b[0m \u001b[1m354s\u001b[0m 404ms/step - accuracy: 0.8117 - loss: 0.7136 - precision: 0.8299 - recall: 0.7886 - val_accuracy: 0.8541 - val_loss: 0.6122 - val_precision: 0.8697 - val_recall: 0.8352 - learning_rate: 1.0000e-04\n",
      "Epoch 14/15\n",
      "\u001b[1m877/877\u001b[0m \u001b[32m━━━━━━━━━━━━━━━━━━━━\u001b[0m\u001b[37m\u001b[0m \u001b[1m357s\u001b[0m 407ms/step - accuracy: 0.8144 - loss: 0.7018 - precision: 0.8324 - recall: 0.7925 - val_accuracy: 0.8509 - val_loss: 0.6000 - val_precision: 0.8686 - val_recall: 0.8332 - learning_rate: 1.0000e-04\n",
      "Epoch 15/15\n",
      "\u001b[1m877/877\u001b[0m \u001b[32m━━━━━━━━━━━━━━━━━━━━\u001b[0m\u001b[37m\u001b[0m \u001b[1m361s\u001b[0m 412ms/step - accuracy: 0.8165 - loss: 0.6829 - precision: 0.8348 - recall: 0.7936 - val_accuracy: 0.8586 - val_loss: 0.5736 - val_precision: 0.8766 - val_recall: 0.8428 - learning_rate: 1.0000e-04\n",
      "Restoring model weights from the end of the best epoch: 15.\n"
     ]
    }
   ],
   "source": [
    "# --------------------\n",
    "# Phase 1: Train only top layers\n",
    "# --------------------\n",
    "print(\"Phase 1: Training top layers only...\")\n",
    "EPOCHS_PHASE1 = 15\n",
    "BATCH_SIZE = 16  # Reduced batch size for better gradients\n",
    "\n",
    "# Enhanced callbacks\n",
    "callbacks_phase1 = [\n",
    "    EarlyStopping(monitor='val_loss', patience=7, restore_best_weights=True, verbose=1),\n",
    "    ReduceLROnPlateau(monitor='val_loss', factor=0.3, patience=4, min_lr=1e-7, verbose=1)\n",
    "]\n",
    "\n",
    "history_phase1 = model.fit(\n",
    "    train_gen,\n",
    "    validation_data=val_gen,\n",
    "    epochs=EPOCHS_PHASE1,\n",
    "    batch_size=BATCH_SIZE,\n",
    "    class_weight=class_weights,\n",
    "    callbacks=callbacks_phase1,\n",
    "    verbose=1\n",
    ")\n"
   ]
  },
  {
   "cell_type": "code",
   "execution_count": 7,
   "id": "5eec12b8",
   "metadata": {
    "execution": {
     "iopub.execute_input": "2025-08-25T04:47:54.085839Z",
     "iopub.status.busy": "2025-08-25T04:47:54.085543Z",
     "iopub.status.idle": "2025-08-25T06:55:50.054549Z",
     "shell.execute_reply": "2025-08-25T06:55:50.053849Z"
    },
    "papermill": {
     "duration": 7676.533335,
     "end_time": "2025-08-25T06:55:50.055890",
     "exception": false,
     "start_time": "2025-08-25T04:47:53.522555",
     "status": "completed"
    },
    "tags": []
   },
   "outputs": [
    {
     "name": "stdout",
     "output_type": "stream",
     "text": [
      "Phase 2: Fine-tuning entire model...\n",
      "\n",
      "Epoch 1: LearningRateScheduler setting learning rate to 9.999999747378752e-06.\n",
      "Epoch 1/20\n",
      "\u001b[1m877/877\u001b[0m \u001b[32m━━━━━━━━━━━━━━━━━━━━\u001b[0m\u001b[37m\u001b[0m \u001b[1m653s\u001b[0m 537ms/step - accuracy: 0.7679 - loss: 0.8067 - precision: 0.7899 - recall: 0.7420 - val_accuracy: 0.8980 - val_loss: 0.4915 - val_precision: 0.9085 - val_recall: 0.8881 - learning_rate: 1.0000e-05\n",
      "\n",
      "Epoch 2: LearningRateScheduler setting learning rate to 9.999999747378752e-06.\n",
      "Epoch 2/20\n",
      "\u001b[1m877/877\u001b[0m \u001b[32m━━━━━━━━━━━━━━━━━━━━\u001b[0m\u001b[37m\u001b[0m \u001b[1m366s\u001b[0m 417ms/step - accuracy: 0.8720 - loss: 0.5557 - precision: 0.8828 - recall: 0.8599 - val_accuracy: 0.8897 - val_loss: 0.5003 - val_precision: 0.8975 - val_recall: 0.8842 - learning_rate: 1.0000e-05\n",
      "\n",
      "Epoch 3: LearningRateScheduler setting learning rate to 9.999999747378752e-06.\n",
      "Epoch 3/20\n",
      "\u001b[1m877/877\u001b[0m \u001b[32m━━━━━━━━━━━━━━━━━━━━\u001b[0m\u001b[37m\u001b[0m \u001b[1m368s\u001b[0m 419ms/step - accuracy: 0.9004 - loss: 0.4894 - precision: 0.9090 - recall: 0.8912 - val_accuracy: 0.8980 - val_loss: 0.4906 - val_precision: 0.9030 - val_recall: 0.8900 - learning_rate: 1.0000e-05\n",
      "\n",
      "Epoch 4: LearningRateScheduler setting learning rate to 9.999999747378752e-06.\n",
      "Epoch 4/20\n",
      "\u001b[1m877/877\u001b[0m \u001b[32m━━━━━━━━━━━━━━━━━━━━\u001b[0m\u001b[37m\u001b[0m \u001b[1m368s\u001b[0m 419ms/step - accuracy: 0.9186 - loss: 0.4431 - precision: 0.9243 - recall: 0.9118 - val_accuracy: 0.9115 - val_loss: 0.4453 - val_precision: 0.9167 - val_recall: 0.9076 - learning_rate: 1.0000e-05\n",
      "\n",
      "Epoch 5: LearningRateScheduler setting learning rate to 9.999999747378752e-06.\n",
      "Epoch 5/20\n",
      "\u001b[1m877/877\u001b[0m \u001b[32m━━━━━━━━━━━━━━━━━━━━\u001b[0m\u001b[37m\u001b[0m \u001b[1m378s\u001b[0m 430ms/step - accuracy: 0.9277 - loss: 0.4185 - precision: 0.9328 - recall: 0.9227 - val_accuracy: 0.9326 - val_loss: 0.3926 - val_precision: 0.9355 - val_recall: 0.9307 - learning_rate: 1.0000e-05\n",
      "\n",
      "Epoch 6: LearningRateScheduler setting learning rate to 9.999999747378752e-06.\n",
      "Epoch 6/20\n",
      "\u001b[1m877/877\u001b[0m \u001b[32m━━━━━━━━━━━━━━━━━━━━\u001b[0m\u001b[37m\u001b[0m \u001b[1m379s\u001b[0m 433ms/step - accuracy: 0.9352 - loss: 0.3956 - precision: 0.9395 - recall: 0.9318 - val_accuracy: 0.9160 - val_loss: 0.4343 - val_precision: 0.9202 - val_recall: 0.9137 - learning_rate: 1.0000e-05\n",
      "\n",
      "Epoch 7: LearningRateScheduler setting learning rate to 9.999999747378752e-06.\n",
      "Epoch 7/20\n",
      "\u001b[1m877/877\u001b[0m \u001b[32m━━━━━━━━━━━━━━━━━━━━\u001b[0m\u001b[37m\u001b[0m \u001b[1m365s\u001b[0m 417ms/step - accuracy: 0.9385 - loss: 0.3833 - precision: 0.9416 - recall: 0.9348 - val_accuracy: 0.8323 - val_loss: 0.6746 - val_precision: 0.8393 - val_recall: 0.8255 - learning_rate: 1.0000e-05\n",
      "\n",
      "Epoch 8: LearningRateScheduler setting learning rate to 9.999999747378752e-06.\n",
      "Epoch 8/20\n",
      "\u001b[1m877/877\u001b[0m \u001b[32m━━━━━━━━━━━━━━━━━━━━\u001b[0m\u001b[37m\u001b[0m \u001b[1m367s\u001b[0m 419ms/step - accuracy: 0.9457 - loss: 0.3665 - precision: 0.9489 - recall: 0.9427 - val_accuracy: 0.9413 - val_loss: 0.3639 - val_precision: 0.9428 - val_recall: 0.9407 - learning_rate: 1.0000e-05\n",
      "\n",
      "Epoch 9: LearningRateScheduler setting learning rate to 9.999999747378752e-06.\n",
      "Epoch 9/20\n",
      "\u001b[1m877/877\u001b[0m \u001b[32m━━━━━━━━━━━━━━━━━━━━\u001b[0m\u001b[37m\u001b[0m \u001b[1m366s\u001b[0m 417ms/step - accuracy: 0.9486 - loss: 0.3510 - precision: 0.9515 - recall: 0.9464 - val_accuracy: 0.9371 - val_loss: 0.3728 - val_precision: 0.9379 - val_recall: 0.9355 - learning_rate: 1.0000e-05\n",
      "\n",
      "Epoch 10: LearningRateScheduler setting learning rate to 9.999999747378752e-06.\n",
      "Epoch 10/20\n",
      "\u001b[1m877/877\u001b[0m \u001b[32m━━━━━━━━━━━━━━━━━━━━\u001b[0m\u001b[37m\u001b[0m \u001b[1m372s\u001b[0m 424ms/step - accuracy: 0.9502 - loss: 0.3444 - precision: 0.9529 - recall: 0.9482 - val_accuracy: 0.9326 - val_loss: 0.3767 - val_precision: 0.9344 - val_recall: 0.9320 - learning_rate: 1.0000e-05\n",
      "\n",
      "Epoch 11: LearningRateScheduler setting learning rate to 9.048373951778437e-06.\n",
      "Epoch 11/20\n",
      "\u001b[1m877/877\u001b[0m \u001b[32m━━━━━━━━━━━━━━━━━━━━\u001b[0m\u001b[37m\u001b[0m \u001b[1m370s\u001b[0m 422ms/step - accuracy: 0.9543 - loss: 0.3318 - precision: 0.9563 - recall: 0.9522 - val_accuracy: 0.9343 - val_loss: 0.3749 - val_precision: 0.9351 - val_recall: 0.9330 - learning_rate: 9.0484e-06\n",
      "\n",
      "Epoch 12: LearningRateScheduler setting learning rate to 8.18730701744863e-06.\n",
      "Epoch 12/20\n",
      "\u001b[1m877/877\u001b[0m \u001b[32m━━━━━━━━━━━━━━━━━━━━\u001b[0m\u001b[37m\u001b[0m \u001b[1m365s\u001b[0m 416ms/step - accuracy: 0.9594 - loss: 0.3148 - precision: 0.9609 - recall: 0.9572 - val_accuracy: 0.9371 - val_loss: 0.3723 - val_precision: 0.9389 - val_recall: 0.9365 - learning_rate: 8.1873e-06\n",
      "\n",
      "Epoch 13: LearningRateScheduler setting learning rate to 7.408181523550421e-06.\n",
      "Epoch 13/20\n",
      "\u001b[1m877/877\u001b[0m \u001b[32m━━━━━━━━━━━━━━━━━━━━\u001b[0m\u001b[37m\u001b[0m \u001b[1m0s\u001b[0m 404ms/step - accuracy: 0.9594 - loss: 0.3083 - precision: 0.9607 - recall: 0.9578\n",
      "Epoch 13: ReduceLROnPlateau reducing learning rate to 1.4816362636338454e-06.\n",
      "\u001b[1m877/877\u001b[0m \u001b[32m━━━━━━━━━━━━━━━━━━━━\u001b[0m\u001b[37m\u001b[0m \u001b[1m366s\u001b[0m 418ms/step - accuracy: 0.9594 - loss: 0.3083 - precision: 0.9607 - recall: 0.9578 - val_accuracy: 0.9349 - val_loss: 0.3811 - val_precision: 0.9374 - val_recall: 0.9323 - learning_rate: 1.4816e-06\n",
      "\n",
      "Epoch 14: LearningRateScheduler setting learning rate to 1.340639890107653e-06.\n",
      "Epoch 14/20\n",
      "\u001b[1m877/877\u001b[0m \u001b[32m━━━━━━━━━━━━━━━━━━━━\u001b[0m\u001b[37m\u001b[0m \u001b[1m369s\u001b[0m 421ms/step - accuracy: 0.9626 - loss: 0.2982 - precision: 0.9642 - recall: 0.9604 - val_accuracy: 0.9455 - val_loss: 0.3524 - val_precision: 0.9463 - val_recall: 0.9442 - learning_rate: 1.3406e-06\n",
      "\n",
      "Epoch 15: LearningRateScheduler setting learning rate to 1.213061117890143e-06.\n",
      "Epoch 15/20\n",
      "\u001b[1m877/877\u001b[0m \u001b[32m━━━━━━━━━━━━━━━━━━━━\u001b[0m\u001b[37m\u001b[0m \u001b[1m373s\u001b[0m 425ms/step - accuracy: 0.9614 - loss: 0.2983 - precision: 0.9627 - recall: 0.9603 - val_accuracy: 0.9407 - val_loss: 0.3644 - val_precision: 0.9412 - val_recall: 0.9397 - learning_rate: 1.2131e-06\n",
      "\n",
      "Epoch 16: LearningRateScheduler setting learning rate to 1.0976230451265632e-06.\n",
      "Epoch 16/20\n",
      "\u001b[1m877/877\u001b[0m \u001b[32m━━━━━━━━━━━━━━━━━━━━\u001b[0m\u001b[37m\u001b[0m \u001b[1m369s\u001b[0m 421ms/step - accuracy: 0.9656 - loss: 0.2905 - precision: 0.9676 - recall: 0.9641 - val_accuracy: 0.9445 - val_loss: 0.3554 - val_precision: 0.9451 - val_recall: 0.9432 - learning_rate: 1.0976e-06\n",
      "\n",
      "Epoch 17: LearningRateScheduler setting learning rate to 9.9317036013293e-07.\n",
      "Epoch 17/20\n",
      "\u001b[1m877/877\u001b[0m \u001b[32m━━━━━━━━━━━━━━━━━━━━\u001b[0m\u001b[37m\u001b[0m \u001b[1m368s\u001b[0m 419ms/step - accuracy: 0.9636 - loss: 0.2947 - precision: 0.9645 - recall: 0.9619 - val_accuracy: 0.9525 - val_loss: 0.3235 - val_precision: 0.9537 - val_recall: 0.9522 - learning_rate: 9.9317e-07\n",
      "\n",
      "Epoch 18: LearningRateScheduler setting learning rate to 8.986577172291942e-07.\n",
      "Epoch 18/20\n",
      "\u001b[1m877/877\u001b[0m \u001b[32m━━━━━━━━━━━━━━━━━━━━\u001b[0m\u001b[37m\u001b[0m \u001b[1m371s\u001b[0m 423ms/step - accuracy: 0.9651 - loss: 0.2854 - precision: 0.9667 - recall: 0.9639 - val_accuracy: 0.9432 - val_loss: 0.3510 - val_precision: 0.9435 - val_recall: 0.9426 - learning_rate: 8.9866e-07\n",
      "\n",
      "Epoch 19: LearningRateScheduler setting learning rate to 8.13139141324454e-07.\n",
      "Epoch 19/20\n",
      "\u001b[1m877/877\u001b[0m \u001b[32m━━━━━━━━━━━━━━━━━━━━\u001b[0m\u001b[37m\u001b[0m \u001b[1m368s\u001b[0m 420ms/step - accuracy: 0.9644 - loss: 0.2903 - precision: 0.9657 - recall: 0.9630 - val_accuracy: 0.9455 - val_loss: 0.3490 - val_precision: 0.9460 - val_recall: 0.9445 - learning_rate: 8.1314e-07\n",
      "\n",
      "Epoch 20: LearningRateScheduler setting learning rate to 7.357587183534808e-07.\n",
      "Epoch 20/20\n",
      "\u001b[1m877/877\u001b[0m \u001b[32m━━━━━━━━━━━━━━━━━━━━\u001b[0m\u001b[37m\u001b[0m \u001b[1m372s\u001b[0m 424ms/step - accuracy: 0.9655 - loss: 0.2876 - precision: 0.9669 - recall: 0.9637 - val_accuracy: 0.9432 - val_loss: 0.3584 - val_precision: 0.9447 - val_recall: 0.9423 - learning_rate: 7.3576e-07\n",
      "Restoring model weights from the end of the best epoch: 17.\n"
     ]
    }
   ],
   "source": [
    "from tensorflow.keras.callbacks import EarlyStopping, ReduceLROnPlateau, LearningRateScheduler\n",
    "# --------------------\n",
    "# Phase 2: Fine-tune entire model\n",
    "# --------------------\n",
    "print(\"Phase 2: Fine-tuning entire model...\")\n",
    "\n",
    "# Unfreeze all layers\n",
    "for layer in base_model.layers:\n",
    "    layer.trainable = True\n",
    "\n",
    "# Use much lower learning rate for fine-tuning\n",
    "model.compile(\n",
    "    optimizer=Adam(learning_rate=1e-5),  # Much lower LR\n",
    "    loss='categorical_crossentropy',\n",
    "    metrics=['accuracy', 'precision', 'recall']\n",
    ")\n",
    "\n",
    "EPOCHS_PHASE2 = 20\n",
    "\n",
    "# Custom learning rate scheduler\n",
    "def scheduler(epoch, lr):\n",
    "    if epoch < 10:\n",
    "        return lr\n",
    "    else:\n",
    "        return lr * np.exp(-0.1)\n",
    "\n",
    "callbacks_phase2 = [\n",
    "    EarlyStopping(monitor='val_loss', patience=10, restore_best_weights=True, verbose=1),\n",
    "    ReduceLROnPlateau(monitor='val_loss', factor=0.2, patience=5, min_lr=1e-8, verbose=1),\n",
    "    LearningRateScheduler(scheduler, verbose=1)\n",
    "]\n",
    "\n",
    "history_phase2 = model.fit(\n",
    "    train_gen,\n",
    "    validation_data=val_gen,\n",
    "    epochs=EPOCHS_PHASE2,\n",
    "    batch_size=BATCH_SIZE,\n",
    "    class_weight=class_weights,\n",
    "    callbacks=callbacks_phase2,\n",
    "    verbose=1\n",
    ")"
   ]
  },
  {
   "cell_type": "code",
   "execution_count": 8,
   "id": "38350f7f",
   "metadata": {
    "execution": {
     "iopub.execute_input": "2025-08-25T06:55:52.810755Z",
     "iopub.status.busy": "2025-08-25T06:55:52.810140Z",
     "iopub.status.idle": "2025-08-25T06:55:53.392842Z",
     "shell.execute_reply": "2025-08-25T06:55:53.392114Z"
    },
    "papermill": {
     "duration": 1.914379,
     "end_time": "2025-08-25T06:55:53.393918",
     "exception": false,
     "start_time": "2025-08-25T06:55:51.479539",
     "status": "completed"
    },
    "tags": []
   },
   "outputs": [
    {
     "data": {
      "image/png": "[encoded data removed]",
      "text/plain": [
       "<Figure size 640x480 with 1 Axes>"
      ]
     },
     "metadata": {},
     "output_type": "display_data"
    },
    {
     "data": {
      "image/png": "[encoded data removed]",
      "text/plain": [
       "<Figure size 640x480 with 1 Axes>"
      ]
     },
     "metadata": {},
     "output_type": "display_data"
    },
    {
     "data": {
      "image/png": "[encoded data removed]",
      "text/plain": [
       "<Figure size 640x480 with 1 Axes>"
      ]
     },
     "metadata": {},
     "output_type": "display_data"
    },
    {
     "data": {
      "image/png": "[encoded data removed]",
      "text/plain": [
       "<Figure size 640x480 with 1 Axes>"
      ]
     },
     "metadata": {},
     "output_type": "display_data"
    }
   ],
   "source": [
    "import matplotlib.pyplot as plt\n",
    "\n",
    "# Phase 1 plots\n",
    "plt.plot(history_phase1.history['accuracy'], label='Train Accuracy (Phase 1)')\n",
    "plt.plot(history_phase1.history['val_accuracy'], label='Val Accuracy (Phase 1)')\n",
    "plt.legend()\n",
    "plt.show()\n",
    "\n",
    "# Phase 2 plots\n",
    "plt.plot(history_phase2.history['accuracy'], label='Train Accuracy (Phase 2)')\n",
    "plt.plot(history_phase2.history['val_accuracy'], label='Val Accuracy (Phase 2)')\n",
    "plt.legend()\n",
    "plt.show()\n",
    "\n",
    "acc = history_phase1.history['accuracy'] + history_phase2.history['accuracy']\n",
    "val_acc = history_phase1.history['val_accuracy'] + history_phase2.history['val_accuracy']\n",
    "loss = history_phase1.history['loss'] + history_phase2.history['loss']\n",
    "val_loss = history_phase1.history['val_loss'] + history_phase2.history['val_loss']\n",
    "\n",
    "plt.plot(acc, label='Train Accuracy')\n",
    "plt.plot(val_acc, label='Val Accuracy')\n",
    "plt.title(\"Combined Accuracy (Phase 1 + Phase 2)\")\n",
    "plt.legend()\n",
    "plt.show()\n",
    "\n",
    "plt.plot(loss, label='Train Loss')\n",
    "plt.plot(val_loss, label='Val Loss')\n",
    "plt.title(\"Combined Loss (Phase 1 + Phase 2)\")\n",
    "plt.legend()\n",
    "plt.show()\n"
   ]
  },
  {
   "cell_type": "code",
   "execution_count": 9,
   "id": "24eebbc5",
   "metadata": {
    "execution": {
     "iopub.execute_input": "2025-08-25T06:55:56.214315Z",
     "iopub.status.busy": "2025-08-25T06:55:56.214008Z",
     "iopub.status.idle": "2025-08-25T06:58:23.127217Z",
     "shell.execute_reply": "2025-08-25T06:58:23.126329Z"
    },
    "papermill": {
     "duration": 148.344767,
     "end_time": "2025-08-25T06:58:23.128404",
     "exception": false,
     "start_time": "2025-08-25T06:55:54.783637",
     "status": "completed"
    },
    "tags": []
   },
   "outputs": [
    {
     "name": "stdout",
     "output_type": "stream",
     "text": [
      "\u001b[1m244/244\u001b[0m \u001b[32m━━━━━━━━━━━━━━━━━━━━\u001b[0m\u001b[37m\u001b[0m \u001b[1m94s\u001b[0m 384ms/step - accuracy: 0.9525 - loss: 0.3102 - precision: 0.9539 - recall: 0.9523\n",
      "Test Loss: 0.3095\n",
      "Test Accuracy: 0.9529\n",
      "Test Precision: 0.9542\n",
      "Test Recall: 0.9527\n",
      "\u001b[1m244/244\u001b[0m \u001b[32m━━━━━━━━━━━━━━━━━━━━\u001b[0m\u001b[37m\u001b[0m \u001b[1m52s\u001b[0m 167ms/step\n",
      "\n",
      "Classification Report:\n",
      "              precision    recall  f1-score   support\n",
      "\n",
      "       covid       1.00      0.97      0.98      3113\n",
      "      normal       0.89      0.98      0.93      2355\n",
      "   pneumonia       0.96      0.90      0.93      2326\n",
      "\n",
      "    accuracy                           0.95      7794\n",
      "   macro avg       0.95      0.95      0.95      7794\n",
      "weighted avg       0.96      0.95      0.95      7794\n",
      "\n",
      "\n",
      "Confusion Matrix:\n",
      "[[3012   62   39]\n",
      " [   1 2313   41]\n",
      " [   2  222 2102]]\n"
     ]
    }
   ],
   "source": [
    "# --------------------\n",
    "# 5. Evaluate model\n",
    "# --------------------\n",
    "\n",
    "loss, acc, precision, recall = model.evaluate(test_gen)\n",
    "print(f\"Test Loss: {loss:.4f}\")\n",
    "print(f\"Test Accuracy: {acc:.4f}\")\n",
    "print(f\"Test Precision: {precision:.4f}\")\n",
    "print(f\"Test Recall: {recall:.4f}\")\n",
    "\n",
    "# Get true labels\n",
    "y_true = test_df['label'].values\n",
    "\n",
    "# Predict and map to label strings\n",
    "y_pred = model.predict(test_gen)\n",
    "y_pred_classes = np.argmax(y_pred, axis=1)\n",
    "\n",
    "# Map numeric predictions to string labels\n",
    "index_to_label = {v: k for k, v in test_gen.class_indices.items()}\n",
    "y_pred_labels = [index_to_label[i] for i in y_pred_classes]\n",
    "\n",
    "# Class names\n",
    "target_names = list(test_gen.class_indices.keys())\n",
    "\n",
    "# Classification report\n",
    "print(\"\\nClassification Report:\")\n",
    "print(classification_report(y_true, y_pred_labels, target_names=target_names))\n",
    "\n",
    "# Confusion matrix\n",
    "cm = confusion_matrix(y_true, y_pred_labels, labels=target_names)\n",
    "print(\"\\nConfusion Matrix:\")\n",
    "print(cm)\n"
   ]
  },
  {
   "cell_type": "code",
   "execution_count": null,
   "id": "f07c4872",
   "metadata": {
    "execution": {
     "iopub.execute_input": "2025-08-25T06:58:26.029944Z",
     "iopub.status.busy": "2025-08-25T06:58:26.029490Z",
     "iopub.status.idle": "2025-08-25T06:58:30.687211Z",
     "shell.execute_reply": "2025-08-25T06:58:30.686412Z"
    },
    "papermill": {
     "duration": 6.110556,
     "end_time": "2025-08-25T06:58:30.688535",
     "exception": false,
     "start_time": "2025-08-25T06:58:24.577979",
     "status": "completed"
    },
    "tags": []
   },
   "outputs": [],
   "source": [
    "from tensorflow.keras.layers import Dense, Dropout, GlobalAveragePooling2D, BatchNormalization, Reshape, MultiHeadAttention, LayerNormalization\n",
    "from tensorflow.keras.models import Model\n",
    "\n",
    "# --------------------\n",
    "# DenseNet121 + Transformer\n",
    "# --------------------\n",
    "\n",
    "def create_hybrid_model():\n",
    "    base_model = DenseNet121(\n",
    "        weights='/kaggle/input/densenet/densenet121_weights_tf_dim_ordering_tf_kernels_notop.h5',\n",
    "        include_top=False,\n",
    "        input_shape=(224, 224, 3)\n",
    "    )\n",
    "    \n",
    "    for layer in base_model.layers:\n",
    "        layer.trainable = False\n",
    "    \n",
    "    features = base_model.output  \n",
    "    \n",
    "    # --------------------\n",
    "    # Adding Transformer\n",
    "    # --------------------\n",
    "    \n",
    "\n",
    "    x = Reshape((49, 1024))(features)  \n",
    "    \n",
    "\n",
    "    positions = tf.range(start=0, limit=49, delta=1)\n",
    "    position_embedding = tf.keras.layers.Embedding(\n",
    "        input_dim=49, output_dim=1024\n",
    "    )(positions)\n",
    "    x = x + position_embedding\n",
    "    \n",
    "    for _ in range(2):  # 2nd transformer\n",
    "\n",
    "        attn_output = MultiHeadAttention(\n",
    "            num_heads=8, key_dim=128  \n",
    "        )(x, x)\n",
    "        x = LayerNormalization()(x + attn_output)\n",
    "        \n",
    "\n",
    "        ffn = Dense(1024, activation='relu')(x)\n",
    "        ffn = Dense(1024)(ffn)\n",
    "        x = LayerNormalization()(x + ffn)\n",
    "    \n",
    "\n",
    "    x = GlobalAveragePooling2D()(Reshape((7, 7, 1024))(x))\n",
    "    \n",
    "\n",
    "    x = BatchNormalization()(x)\n",
    "    x = Dropout(0.5)(x)\n",
    "    x = Dense(256, activation='relu', kernel_regularizer=l2(0.001))(x)\n",
    "    x = BatchNormalization()(x)\n",
    "    x = Dropout(0.4)(x)\n",
    "    x = Dense(128, activation='relu', kernel_regularizer=l2(0.001))(x)\n",
    "    x = BatchNormalization()(x)\n",
    "    x = Dropout(0.3)(x)\n",
    "    output = Dense(3, activation='softmax', kernel_regularizer=l2(0.001))(x)\n",
    "    \n",
    "    hybrid_model = Model(inputs=base_model.input, outputs=output)\n",
    "    \n",
    "    return hybrid_model\n",
    "\n",
    "hybrid_model = create_hybrid_model()"
   ]
  },
  {
   "cell_type": "code",
   "execution_count": null,
   "id": "ba1b6513",
   "metadata": {
    "execution": {
     "iopub.execute_input": "2025-08-25T06:58:33.417762Z",
     "iopub.status.busy": "2025-08-25T06:58:33.417305Z",
     "iopub.status.idle": "2025-08-25T09:01:37.138987Z",
     "shell.execute_reply": "2025-08-25T09:01:37.138082Z"
    },
    "papermill": {
     "duration": 7387.444851,
     "end_time": "2025-08-25T09:01:39.449093",
     "exception": false,
     "start_time": "2025-08-25T06:58:32.004242",
     "status": "completed"
    },
    "tags": []
   },
   "outputs": [
    {
     "name": "stdout",
     "output_type": "stream",
     "text": [
      "Epoch 1/20\n",
      "\u001b[1m877/877\u001b[0m \u001b[32m━━━━━━━━━━━━━━━━━━━━\u001b[0m\u001b[37m\u001b[0m \u001b[1m439s\u001b[0m 452ms/step - accuracy: 0.7124 - loss: 1.3575 - precision: 0.7268 - recall: 0.6897 - val_accuracy: 0.7543 - val_loss: 1.3008 - val_precision: 0.7647 - val_recall: 0.7431\n",
      "Epoch 2/20\n",
      "\u001b[1m877/877\u001b[0m \u001b[32m━━━━━━━━━━━━━━━━━━━━\u001b[0m\u001b[37m\u001b[0m \u001b[1m374s\u001b[0m 427ms/step - accuracy: 0.8396 - loss: 1.0033 - precision: 0.8517 - recall: 0.8286 - val_accuracy: 0.8669 - val_loss: 0.8847 - val_precision: 0.8773 - val_recall: 0.8550\n",
      "Epoch 3/20\n",
      "\u001b[1m877/877\u001b[0m \u001b[32m━━━━━━━━━━━━━━━━━━━━\u001b[0m\u001b[37m\u001b[0m \u001b[1m370s\u001b[0m 422ms/step - accuracy: 0.8571 - loss: 0.9193 - precision: 0.8688 - recall: 0.8470 - val_accuracy: 0.8573 - val_loss: 0.8874 - val_precision: 0.8658 - val_recall: 0.8525\n",
      "Epoch 4/20\n",
      "\u001b[1m877/877\u001b[0m \u001b[32m━━━━━━━━━━━━━━━━━━━━\u001b[0m\u001b[37m\u001b[0m \u001b[1m370s\u001b[0m 422ms/step - accuracy: 0.8720 - loss: 0.8501 - precision: 0.8808 - recall: 0.8630 - val_accuracy: 0.8977 - val_loss: 0.7693 - val_precision: 0.9067 - val_recall: 0.8884\n",
      "Epoch 5/20\n",
      "\u001b[1m877/877\u001b[0m \u001b[32m━━━━━━━━━━━━━━━━━━━━\u001b[0m\u001b[37m\u001b[0m \u001b[1m370s\u001b[0m 422ms/step - accuracy: 0.8796 - loss: 0.7927 - precision: 0.8876 - recall: 0.8704 - val_accuracy: 0.8951 - val_loss: 0.7163 - val_precision: 0.9039 - val_recall: 0.8836\n",
      "Epoch 6/20\n",
      "\u001b[1m877/877\u001b[0m \u001b[32m━━━━━━━━━━━━━━━━━━━━\u001b[0m\u001b[37m\u001b[0m \u001b[1m375s\u001b[0m 428ms/step - accuracy: 0.8935 - loss: 0.7095 - precision: 0.9011 - recall: 0.8849 - val_accuracy: 0.9015 - val_loss: 0.6383 - val_precision: 0.9091 - val_recall: 0.8945\n",
      "Epoch 7/20\n",
      "\u001b[1m877/877\u001b[0m \u001b[32m━━━━━━━━━━━━━━━━━━━━\u001b[0m\u001b[37m\u001b[0m \u001b[1m369s\u001b[0m 420ms/step - accuracy: 0.8970 - loss: 0.6536 - precision: 0.9038 - recall: 0.8897 - val_accuracy: 0.9131 - val_loss: 0.5742 - val_precision: 0.9163 - val_recall: 0.9096\n",
      "Epoch 8/20\n",
      "\u001b[1m877/877\u001b[0m \u001b[32m━━━━━━━━━━━━━━━━━━━━\u001b[0m\u001b[37m\u001b[0m \u001b[1m364s\u001b[0m 414ms/step - accuracy: 0.9045 - loss: 0.5912 - precision: 0.9114 - recall: 0.8967 - val_accuracy: 0.8483 - val_loss: 0.7058 - val_precision: 0.8524 - val_recall: 0.8425\n",
      "Epoch 9/20\n",
      "\u001b[1m877/877\u001b[0m \u001b[32m━━━━━━━━━━━━━━━━━━━━\u001b[0m\u001b[37m\u001b[0m \u001b[1m364s\u001b[0m 415ms/step - accuracy: 0.9029 - loss: 0.5452 - precision: 0.9098 - recall: 0.8968 - val_accuracy: 0.9057 - val_loss: 0.5091 - val_precision: 0.9121 - val_recall: 0.9015\n",
      "Epoch 10/20\n",
      "\u001b[1m877/877\u001b[0m \u001b[32m━━━━━━━━━━━━━━━━━━━━\u001b[0m\u001b[37m\u001b[0m \u001b[1m359s\u001b[0m 409ms/step - accuracy: 0.9097 - loss: 0.4950 - precision: 0.9146 - recall: 0.9048 - val_accuracy: 0.8961 - val_loss: 0.5135 - val_precision: 0.9021 - val_recall: 0.8868\n",
      "Epoch 11/20\n",
      "\u001b[1m877/877\u001b[0m \u001b[32m━━━━━━━━━━━━━━━━━━━━\u001b[0m\u001b[37m\u001b[0m \u001b[1m359s\u001b[0m 409ms/step - accuracy: 0.9093 - loss: 0.4631 - precision: 0.9151 - recall: 0.9043 - val_accuracy: 0.8820 - val_loss: 0.5023 - val_precision: 0.8866 - val_recall: 0.8752\n",
      "Epoch 12/20\n",
      "\u001b[1m877/877\u001b[0m \u001b[32m━━━━━━━━━━━━━━━━━━━━\u001b[0m\u001b[37m\u001b[0m \u001b[1m364s\u001b[0m 415ms/step - accuracy: 0.9168 - loss: 0.4087 - precision: 0.9226 - recall: 0.9120 - val_accuracy: 0.8954 - val_loss: 0.4378 - val_precision: 0.9022 - val_recall: 0.8874\n",
      "Epoch 13/20\n",
      "\u001b[1m877/877\u001b[0m \u001b[32m━━━━━━━━━━━━━━━━━━━━\u001b[0m\u001b[37m\u001b[0m \u001b[1m366s\u001b[0m 417ms/step - accuracy: 0.9189 - loss: 0.3810 - precision: 0.9226 - recall: 0.9141 - val_accuracy: 0.9253 - val_loss: 0.3479 - val_precision: 0.9296 - val_recall: 0.9192\n",
      "Epoch 14/20\n",
      "\u001b[1m877/877\u001b[0m \u001b[32m━━━━━━━━━━━━━━━━━━━━\u001b[0m\u001b[37m\u001b[0m \u001b[1m363s\u001b[0m 414ms/step - accuracy: 0.9237 - loss: 0.3500 - precision: 0.9276 - recall: 0.9203 - val_accuracy: 0.8817 - val_loss: 0.4590 - val_precision: 0.8872 - val_recall: 0.8752\n",
      "Epoch 15/20\n",
      "\u001b[1m877/877\u001b[0m \u001b[32m━━━━━━━━━━━━━━━━━━━━\u001b[0m\u001b[37m\u001b[0m \u001b[1m365s\u001b[0m 416ms/step - accuracy: 0.9234 - loss: 0.3355 - precision: 0.9269 - recall: 0.9192 - val_accuracy: 0.9182 - val_loss: 0.3183 - val_precision: 0.9240 - val_recall: 0.9118\n",
      "Epoch 16/20\n",
      "\u001b[1m877/877\u001b[0m \u001b[32m━━━━━━━━━━━━━━━━━━━━\u001b[0m\u001b[37m\u001b[0m \u001b[1m367s\u001b[0m 419ms/step - accuracy: 0.9300 - loss: 0.2972 - precision: 0.9334 - recall: 0.9266 - val_accuracy: 0.9237 - val_loss: 0.3182 - val_precision: 0.9279 - val_recall: 0.9211\n",
      "Epoch 17/20\n",
      "\u001b[1m877/877\u001b[0m \u001b[32m━━━━━━━━━━━━━━━━━━━━\u001b[0m\u001b[37m\u001b[0m \u001b[1m360s\u001b[0m 411ms/step - accuracy: 0.9263 - loss: 0.2976 - precision: 0.9309 - recall: 0.9227 - val_accuracy: 0.9314 - val_loss: 0.2827 - val_precision: 0.9342 - val_recall: 0.9288\n",
      "Epoch 18/20\n",
      "\u001b[1m877/877\u001b[0m \u001b[32m━━━━━━━━━━━━━━━━━━━━\u001b[0m\u001b[37m\u001b[0m \u001b[1m360s\u001b[0m 410ms/step - accuracy: 0.9282 - loss: 0.2767 - precision: 0.9322 - recall: 0.9255 - val_accuracy: 0.8858 - val_loss: 0.3743 - val_precision: 0.8918 - val_recall: 0.8804\n",
      "Epoch 19/20\n",
      "\u001b[1m877/877\u001b[0m \u001b[32m━━━━━━━━━━━━━━━━━━━━\u001b[0m\u001b[37m\u001b[0m \u001b[1m361s\u001b[0m 412ms/step - accuracy: 0.9308 - loss: 0.2684 - precision: 0.9349 - recall: 0.9269 - val_accuracy: 0.9195 - val_loss: 0.2899 - val_precision: 0.9229 - val_recall: 0.9173\n",
      "Epoch 20/20\n",
      "\u001b[1m877/877\u001b[0m \u001b[32m━━━━━━━━━━━━━━━━━━━━\u001b[0m\u001b[37m\u001b[0m \u001b[1m363s\u001b[0m 413ms/step - accuracy: 0.9369 - loss: 0.2480 - precision: 0.9398 - recall: 0.9343 - val_accuracy: 0.9307 - val_loss: 0.2395 - val_precision: 0.9338 - val_recall: 0.9278\n"
     ]
    }
   ],
   "source": [
    "# freeze cnn, train only transformer\n",
    "hybrid_model.compile(\n",
    "    optimizer=Adam(learning_rate=1e-4),\n",
    "    loss='categorical_crossentropy',\n",
    "    metrics=['accuracy', 'precision', 'recall']\n",
    ")\n",
    "\n",
    "history_hybrid = hybrid_model.fit(\n",
    "    train_gen,\n",
    "    validation_data=val_gen,\n",
    "    epochs=20, \n",
    "    class_weight=class_weights,\n",
    "    verbose=1\n",
    ")"
   ]
  },
  {
   "cell_type": "code",
   "execution_count": 12,
   "id": "66ef87d1",
   "metadata": {
    "execution": {
     "iopub.execute_input": "2025-08-25T09:01:43.775114Z",
     "iopub.status.busy": "2025-08-25T09:01:43.774835Z",
     "iopub.status.idle": "2025-08-25T09:02:30.107858Z",
     "shell.execute_reply": "2025-08-25T09:02:30.107201Z"
    },
    "papermill": {
     "duration": 48.435249,
     "end_time": "2025-08-25T09:02:30.108945",
     "exception": false,
     "start_time": "2025-08-25T09:01:41.673696",
     "status": "completed"
    },
    "tags": []
   },
   "outputs": [
    {
     "name": "stdout",
     "output_type": "stream",
     "text": [
      "\u001b[1m244/244\u001b[0m \u001b[32m━━━━━━━━━━━━━━━━━━━━\u001b[0m\u001b[37m\u001b[0m \u001b[1m46s\u001b[0m 188ms/step - accuracy: 0.9357 - loss: 0.2307 - precision: 0.9383 - recall: 0.9340\n",
      "Hybrid Model Accuracy: 0.9355\n",
      "Original DenseNet Accuracy: 0.9539\n",
      "⚠️  Hybrid model shows no significant improvement, revert to original architecture\n"
     ]
    }
   ],
   "source": [
    "# Compare Hybrid Model vs Pure DenseNet\n",
    "hybrid_results = hybrid_model.evaluate(test_gen)\n",
    "print(f\"Hybrid Model Accuracy: {hybrid_results[1]:.4f}\")\n",
    "print(f\"Original DenseNet Accuracy: 0.9539\")\n",
    "\n",
    "if hybrid_results[1] > 0.959:  # Continue only if significant improvement\n",
    "    print(\"✅ Hybrid model performs better, continue optimization!\")\n",
    "else:\n",
    "    print(\"⚠️  Hybrid model shows no significant improvement, revert to original architecture\")"
   ]
  }
 ],
 "metadata": {
  "kaggle": {
   "accelerator": "gpu",
   "dataSources": [
    {
     "datasetId": 17810,
     "sourceId": 23812,
     "sourceType": "datasetVersion"
    },
    {
     "datasetId": 502937,
     "sourceId": 932910,
     "sourceType": "datasetVersion"
    },
    {
     "datasetId": 576013,
     "sourceId": 3324348,
     "sourceType": "datasetVersion"
    },
    {
     "datasetId": 8128652,
     "sourceId": 12851898,
     "sourceType": "datasetVersion"
    },
    {
     "datasetId": 8128731,
     "sourceId": 12852019,
     "sourceType": "datasetVersion"
    }
   ],
   "dockerImageVersionId": 31090,
   "isGpuEnabled": true,
   "isInternetEnabled": true,
   "language": "python",
   "sourceType": "notebook"
  },
  "kernelspec": {
   "display_name": "Python 3",
   "language": "python",
   "name": "python3"
  },
  "language_info": {
   "codemirror_mode": {
    "name": "ipython",
    "version": 3
   },
   "file_extension": ".py",
   "mimetype": "text/x-python",
   "name": "python",
   "nbconvert_exporter": "python",
   "pygments_lexer": "ipython3",
   "version": "3.11.13"
  },
  "papermill": {
   "default_parameters": {},
   "duration": 20986.57951,
   "end_time": "2025-08-25T09:02:36.367909",
   "environment_variables": {},
   "exception": null,
   "input_path": "__notebook__.ipynb",
   "output_path": "__notebook__.ipynb",
   "parameters": {},
   "start_time": "2025-08-25T03:12:49.788399",
   "version": "2.6.0"
  }
 },
 "nbformat": 4,
 "nbformat_minor": 5
}
